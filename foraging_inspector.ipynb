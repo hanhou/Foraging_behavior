{
 "cells": [
  {
   "cell_type": "code",
   "execution_count": 1,
   "metadata": {
    "ExecuteTime": {
     "end_time": "2020-04-11T17:57:35.365456Z",
     "start_time": "2020-04-11T17:57:34.200101Z"
    }
   },
   "outputs": [
    {
     "name": "stdout",
     "output_type": "stream",
     "text": [
      "Connecting rozmar@mesoscale-activity.datajoint.io:3306\n"
     ]
    }
   ],
   "source": [
    "import ipywidgets as widgets\n",
    "from ipywidgets import interact, interact_manual\n",
    "from IPython.display import display,clear_output\n",
    "import pandas as pd\n",
    "import matplotlib.pyplot as plt\n",
    "import datajoint as dj\n",
    "from pipeline import pipeline_tools, lab, experiment, behavior_foraging\n",
    "import numpy as np\n",
    "dj.conn()\n",
    "from foraging_inspector_utils import *\n",
    "#%matplotlib widgetsnbextension"
   ]
  },
  {
   "cell_type": "code",
   "execution_count": 2,
   "metadata": {
    "ExecuteTime": {
     "end_time": "2020-04-11T17:57:35.938403Z",
     "start_time": "2020-04-11T17:57:35.368642Z"
    },
    "scrolled": true
   },
   "outputs": [
    {
     "data": {
      "application/vnd.jupyter.widget-view+json": {
       "model_id": "214c42d5faf1400f93b2da7dd8dfc568",
       "version_major": 2,
       "version_minor": 0
      },
      "text/plain": [
       "VBox(children=(HBox(children=(VBox(children=(Label(value='Task'), Dropdown(layout=Layout(width='auto'), option…"
      ]
     },
     "metadata": {},
     "output_type": "display_data"
    },
    {
     "data": {
      "application/vnd.jupyter.widget-view+json": {
       "model_id": "e6ead98377d8409babb0bef23ebb4ad6",
       "version_major": 2,
       "version_minor": 0
      },
      "text/plain": [
       "Output(layout=Layout(border='1px solid black'))"
      ]
     },
     "metadata": {},
     "output_type": "display_data"
    },
    {
     "data": {
      "application/vnd.jupyter.widget-view+json": {
       "model_id": "7b1d8a4ccf914f72a002ee181054a18c",
       "version_major": 2,
       "version_minor": 0
      },
      "text/plain": [
       "VBox(children=(Output(), Output()))"
      ]
     },
     "metadata": {},
     "output_type": "display_data"
    },
    {
     "data": {
      "application/vnd.jupyter.widget-view+json": {
       "model_id": "e6ead98377d8409babb0bef23ebb4ad6",
       "version_major": 2,
       "version_minor": 0
      },
      "text/plain": [
       "Output(layout=Layout(border='1px solid black'))"
      ]
     },
     "metadata": {},
     "output_type": "display_data"
    }
   ],
   "source": [
    "\n",
    "\n",
    "def update_params(change=None):  # this script make sure that the widgets are synchronized\n",
    "    plottype = task_selector.value\n",
    "    if '2' in plottype:\n",
    "        wr_names = (behavior_foraging.SessionTaskProtocol()*experiment.Session()*lab.WaterRestriction()&'session_task_protocol = 100').fetch('water_restriction_number')\n",
    "    elif '3' in plottype:\n",
    "        wr_names = (behavior_foraging.SessionTaskProtocol()*experiment.Session()*lab.WaterRestriction()&'session_task_protocol = 101').fetch('water_restriction_number')\n",
    "    wr_names = np.unique(wr_names)\n",
    "    wr_name_selector.options = wr_names\n",
    "    wr_name = wr_name_selector.value\n",
    "    subject_id = (lab.WaterRestriction()&'water_restriction_number = \"{}\"'.format(wr_name)).fetch1('subject_id')\n",
    "\n",
    "    df_sessions = pd.DataFrame(behavior_foraging.SessionTaskProtocol()*experiment.Session()&'subject_id = {}'.format(subject_id))\n",
    "    if '2' in plottype:\n",
    "        needed = df_sessions['session_task_protocol'] == 100\n",
    "    elif '3' in plottype:\n",
    "        needed = df_sessions['session_task_protocol'] == 101\n",
    "    df_sessions=df_sessions[needed]\n",
    "    if len(df_sessions)>0:\n",
    "        try:\n",
    "            session_selector.min = df_sessions['session'].min()\n",
    "            session_selector.max = df_sessions['session'].max()\n",
    "        except:\n",
    "            session_selector.max = df_sessions['session'].max()\n",
    "            session_selector.min = df_sessions['session'].min()\n",
    "    else:\n",
    "        session_selector.min = 0\n",
    "        session_selector.max = 0\n",
    "    session_real_foraging = (behavior_foraging.SessionTaskProtocol()&'subject_id = {}'.format(subject_id)).fetch('session_real_foraging')\n",
    "    metadata_display.value = 'Pretraining session num: {}'.format(sum(session_real_foraging ==0))\n",
    "\n",
    "def plot_stuff(dummy=None): # this script does the plotting\n",
    "    # generate figure structure\n",
    "    fig=plt.figure()\n",
    "    ax1=fig.add_axes([0,0,2,.8])\n",
    "    ax2=fig.add_axes([0,-.6,2,.4])\n",
    "    ax3=fig.add_axes([0,-1.6,2,.8])\n",
    "    ax4=fig.add_axes([0,-2.6,2,.8])\n",
    "    ax5 = fig.add_axes([0,-3.6,2,.8])\n",
    "    plt.close(fig)\n",
    "    \n",
    "    with output:\n",
    "        clear_output(wait=True)\n",
    "        print('waiting for data..')\n",
    "    # invoke plot functions    \n",
    "    plot_trials(ax1,\n",
    "                ax2,\n",
    "                plottype = task_selector.value,\n",
    "                wr_name = wr_name_selector.value,\n",
    "                sessions = session_selector.value,\n",
    "                plot_every_choice= plot_each_choice.value,\n",
    "                show_bias_check_trials =  bias_check_selector.value,\n",
    "                choice_filter = np.ones(plot_choice_averaging_window.value)/plot_choice_averaging_window.value)\n",
    "\n",
    "    plot_efficiency_matching_bias(ax3,\n",
    "                                  plottype = task_selector.value,\n",
    "                                  wr_name = wr_name_selector.value,\n",
    "                                  sessions= session_selector.value,\n",
    "                                  plot_efficiency_type = plot_efficiency.value)\n",
    "    plot_rt_iti(ax4,\n",
    "                ax5,\n",
    "                plottype = task_selector.value,\n",
    "                wr_name = wr_name_selector.value,\n",
    "                sessions = session_selector.value,\n",
    "                show_bias_check_trials =  bias_check_selector.value,\n",
    "                kernel = np.ones(plot_choice_averaging_window.value)/plot_choice_averaging_window.value)\n",
    "    # display figure on widget\n",
    "    with output:\n",
    "        clear_output(wait=True)\n",
    "        display(fig) \n",
    "        \n",
    "\n",
    "        \n",
    "## widgets are defined here\n",
    "border = widgets.Output(layout={'border': '1px solid black'})\n",
    "output = widgets.Output()\n",
    "output2 = widgets.Output()\n",
    "task_selector = widgets.Dropdown(layout={'width': 'auto'},\n",
    "                                    options=['2lickport','3lickport'],\n",
    "                                    disabled=False)\n",
    "task_selector.observe(update_params,'value')\n",
    "\n",
    "wr_name_selector = widgets.Dropdown(layout={'width': 'auto'},\n",
    "                                    options=[],\n",
    "                                    disabled=False)\n",
    "wr_name_selector.observe(update_params,'value') # runs update params upon change in value\n",
    "\n",
    "session_selector = widgets.IntRangeSlider(value=[5, 7],\n",
    "                                          min=0,\n",
    "                                          max=10,\n",
    "                                          step=1,\n",
    "                                          disabled=False,\n",
    "                                          continuous_update=False,\n",
    "                                          orientation='horizontal',\n",
    "                                          readout=True,\n",
    "                                          readout_format='d')\n",
    "\n",
    "bias_check_selector = widgets.Checkbox(value=True,\n",
    "                                       description='Include bias check',\n",
    "                                       disabled=False,\n",
    "                                       indent=False,\n",
    "                                       layout={'width': 'auto'})\n",
    "metadata_display = widgets.HTML(value=\"\",\n",
    "                                placeholder=' ',\n",
    "                                description=' ',\n",
    "                                layout={'width': 'auto'})\n",
    "\n",
    "\n",
    "\n",
    "plot_button = widgets.Button(description=\"plot\")\n",
    "plot_button.on_click(plot_stuff)\n",
    "\n",
    "# plotting related widgets\n",
    "plot_each_choice = widgets.Checkbox(value=True,\n",
    "                              description='Plot each choice',\n",
    "                              disabled=False,\n",
    "                              indent=False,\n",
    "                              layout={'width': 'auto'})\n",
    "plot_choice_averaging_window = widgets.IntText(value=10,\n",
    "                                               description='Choice avg window:',\n",
    "                                               style={'description_width': 'initial'},\n",
    "                                               disabled=False,\n",
    "                                               layout={'width': '70%'}\n",
    "                                              )\n",
    "plot_efficiency = widgets.Dropdown(layout={'width': 'initial'},\n",
    "                                   options=['max_prob','sum_prob','max_available','sum_available'],\n",
    "                                   value = 'sum_prob',\n",
    "                                   description = 'Efficiency:',\n",
    "                                   disabled=False)\n",
    "\n",
    "\n",
    "## layout of widgets\n",
    "controls = widgets.HBox([widgets.VBox([widgets.Label('Task'), task_selector]),\n",
    "                         widgets.VBox([widgets.Label('Subject'), wr_name_selector]),\n",
    "                         widgets.VBox([widgets.Label('Sessions'),session_selector]),\n",
    "                         widgets.VBox([bias_check_selector]),\n",
    "                         widgets.VBox([plot_button])])\n",
    "\n",
    "plot_controls = widgets.HBox([widgets.VBox([plot_each_choice,plot_choice_averaging_window]),\n",
    "                             widgets.VBox([plot_efficiency])])\n",
    "accordion = widgets.VBox(children=(controls,plot_controls,metadata_display), title=('Select data', 'Plot details','Metadata'))\n",
    "#accordion.set_title(0, 'Data')\n",
    "#accordion.set_title(1, 'Plot')\n",
    "\n",
    "\n",
    "# displaying widgets\n",
    "display(accordion)\n",
    "display(border)\n",
    "display(widgets.VBox([output,output2]))\n",
    "display(border)\n",
    "update_params()"
   ]
  }
 ],
 "metadata": {
  "kernelspec": {
   "display_name": "Python 3",
   "language": "python",
   "name": "python3"
  },
  "language_info": {
   "codemirror_mode": {
    "name": "ipython",
    "version": 3
   },
   "file_extension": ".py",
   "mimetype": "text/x-python",
   "name": "python",
   "nbconvert_exporter": "python",
   "pygments_lexer": "ipython3",
   "version": "3.7.3"
  },
  "varInspector": {
   "cols": {
    "lenName": 16,
    "lenType": 16,
    "lenVar": 40
   },
   "kernels_config": {
    "python": {
     "delete_cmd_postfix": "",
     "delete_cmd_prefix": "del ",
     "library": "var_list.py",
     "varRefreshCmd": "print(var_dic_list())"
    },
    "r": {
     "delete_cmd_postfix": ") ",
     "delete_cmd_prefix": "rm(",
     "library": "var_list.r",
     "varRefreshCmd": "cat(var_dic_list()) "
    }
   },
   "position": {
    "height": "464.85px",
    "left": "1019px",
    "right": "20px",
    "top": "119px",
    "width": "355px"
   },
   "types_to_exclude": [
    "module",
    "function",
    "builtin_function_or_method",
    "instance",
    "_Feature"
   ],
   "window_display": false
  }
 },
 "nbformat": 4,
 "nbformat_minor": 2
}
