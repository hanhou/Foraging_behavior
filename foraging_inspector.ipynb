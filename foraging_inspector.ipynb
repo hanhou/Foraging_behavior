{
 "cells": [
  {
   "cell_type": "code",
   "execution_count": 1,
   "metadata": {
    "ExecuteTime": {
     "end_time": "2020-04-08T19:52:08.702041Z",
     "start_time": "2020-04-08T19:52:07.662070Z"
    }
   },
   "outputs": [
    {
     "name": "stdout",
     "output_type": "stream",
     "text": [
      "Connecting rozmar@mesoscale-activity.datajoint.io:3306\n"
     ]
    },
    {
     "data": {
      "text/plain": [
       "DataJoint connection (connected) rozmar@mesoscale-activity.datajoint.io:3306"
      ]
     },
     "execution_count": 1,
     "metadata": {},
     "output_type": "execute_result"
    }
   ],
   "source": [
    "import ipywidgets as widgets\n",
    "from ipywidgets import interact, interact_manual\n",
    "from IPython.display import display,clear_output\n",
    "import pandas as pd\n",
    "import matplotlib.pyplot as plt\n",
    "import datajoint as dj\n",
    "from pipeline import pipeline_tools, lab, experiment, behavior_foraging\n",
    "import numpy as np\n",
    "dj.conn()\n",
    "#%matplotlib widgetsnbextension"
   ]
  },
  {
   "cell_type": "code",
   "execution_count": 2,
   "metadata": {
    "ExecuteTime": {
     "end_time": "2020-04-08T19:52:08.709688Z",
     "start_time": "2020-04-08T19:52:08.704489Z"
    }
   },
   "outputs": [],
   "source": [
    "def merge_dataframes_with_nans(df_1,df_2,basiscol):\n",
    "    basiscol = 'trial'\n",
    "    colstoadd = list()\n",
    "# =============================================================================\n",
    "#     df_1 = df_behaviortrial\n",
    "#     df_2 = df_reactiontimes\n",
    "# =============================================================================\n",
    "    for colnow in df_2.keys():\n",
    "        if colnow not in df_1.keys():\n",
    "            df_1[colnow] = np.nan\n",
    "            colstoadd.append(colnow)\n",
    "    for line in df_2.iterrows():\n",
    "        for colname in colstoadd:\n",
    "            df_1.loc[df_1[basiscol]==line[1][basiscol],colname]=line[1][colname]\n",
    "    return df_1\n"
   ]
  },
  {
   "cell_type": "code",
   "execution_count": 3,
   "metadata": {
    "ExecuteTime": {
     "end_time": "2020-04-08T19:52:09.031358Z",
     "start_time": "2020-04-08T19:52:08.712172Z"
    },
    "scrolled": false
   },
   "outputs": [
    {
     "data": {
      "application/vnd.jupyter.widget-view+json": {
       "model_id": "f4b1d55f150c4c81b60c27d518ac1a3a",
       "version_major": 2,
       "version_minor": 0
      },
      "text/plain": [
       "VBox(children=(HBox(children=(VBox(children=(Label(value='Task'), Dropdown(layout=Layout(width='initial'), opt…"
      ]
     },
     "metadata": {},
     "output_type": "display_data"
    },
    {
     "data": {
      "application/vnd.jupyter.widget-view+json": {
       "model_id": "31cf3522dce040f18d068643efb7a0a6",
       "version_major": 2,
       "version_minor": 0
      },
      "text/plain": [
       "Output(layout=Layout(border='1px solid black'))"
      ]
     },
     "metadata": {},
     "output_type": "display_data"
    },
    {
     "data": {
      "application/vnd.jupyter.widget-view+json": {
       "model_id": "481000f91e3f41c7bedd1636be545f60",
       "version_major": 2,
       "version_minor": 0
      },
      "text/plain": [
       "Output()"
      ]
     },
     "metadata": {},
     "output_type": "display_data"
    }
   ],
   "source": [
    "wr_names = (experiment.Session()*lab.WaterRestriction()).fetch('water_restriction_number')\n",
    "wr_names = np.unique(wr_names)\n",
    "\n",
    "\n",
    "fig=plt.figure()\n",
    "ax1=fig.add_axes([0,0,2,.8])\n",
    "plt.close()\n",
    "## functions related to widgets\n",
    "def update_params(change=None):\n",
    "    \n",
    "    wr_name = wr_name_selector.value\n",
    "    subject_id = (lab.WaterRestriction()&'water_restriction_number = \"{}\"'.format(wr_name)).fetch1('subject_id')\n",
    "    df_sessions = pd.DataFrame(experiment.Session()&'subject_id = {}'.format(subject_id))\n",
    "    session_selector.min = df_sessions['session'].min()\n",
    "    session_selector.max = df_sessions['session'].max()\n",
    "    \n",
    "def plot_trials(dummy):\n",
    "    ax1.clear()\n",
    "    plottype = '2lickport'\n",
    "    choice_filter = np.ones(20)/20\n",
    "    local_filter = np.ones(10)/10\n",
    "\n",
    "    with output:\n",
    "        clear_output(wait=True)\n",
    "        print('waiting for plot')\n",
    "    wr_name = wr_name_selector.value\n",
    "    subject_id = (lab.WaterRestriction()&'water_restriction_number = \"{}\"'.format(wr_name)).fetch1('subject_id')\n",
    "    sessions = session_selector.value\n",
    "    df_behaviortrial = pd.DataFrame(np.asarray((experiment.BehaviorTrial()* experiment.SessionTrial() * experiment.SessionBlock()* behavior_foraging.TrialReactionTime &\n",
    "                                    'subject_id = {}'.format(subject_id) &\n",
    "                                    'session >= {}'.format(sessions[0]) &\n",
    "                                    'session <= {}'.format(sessions[1])).fetch('session',\n",
    "                                                                               'trial',\n",
    "                                                                               'p_reward_right',\n",
    "                                                                               'p_reward_left',\n",
    "                                                                               'p_reward_middle',\n",
    "                                                                               'trial_choice',\n",
    "                                                                               'outcome'\n",
    "                                                                              )).T,columns = ['session',\n",
    "                                                                                              'trial',\n",
    "                                                                                              'p_reward_right',\n",
    "                                                                                              'p_reward_left',\n",
    "                                                                                              'p_reward_middle',\n",
    "                                                                                              'trial_choice',\n",
    "                                                                                              'outcome'])\n",
    "    \n",
    "    \n",
    "\n",
    "    unique_sessions = df_behaviortrial['session'].unique()\n",
    "    for session in unique_sessions:\n",
    "        total_trials_so_far = (behavior_foraging.SessionStats()&'subject_id = {}'.format(subject_id) &'session < {}'.format(session)).fetch('session_total_trial_num')\n",
    "        bias_check_trials_now = (behavior_foraging.SessionStats()&'subject_id = {}'.format(subject_id) &'session = {}'.format(session)).fetch1('session_bias_check_trial_num')\n",
    "        total_trials_so_far =sum(total_trials_so_far)\n",
    "\n",
    "        df_behaviortrial.loc[df_behaviortrial['session']==session, 'trial'] += total_trials_so_far\n",
    "    \n",
    "    if not bias_check_selector.value:\n",
    "        realtraining = (df_behaviortrial['p_reward_left']<1) & (df_behaviortrial['p_reward_right']<1) & ((df_behaviortrial['p_reward_middle']<1) | df_behaviortrial['p_reward_middle'].isnull())\n",
    "        df_behaviortrial = df_behaviortrial[realtraining]\n",
    "        df_behaviortrial = df_behaviortrial.reset_index(drop=True)\n",
    "    \n",
    "    \n",
    "    df_behaviortrial['trial_choice_plot'] = np.nan\n",
    "    df_behaviortrial.loc[df_behaviortrial['trial_choice'] == 'left', 'trial_choice_plot'] = 0\n",
    "    df_behaviortrial.loc[df_behaviortrial['trial_choice'] == 'right', 'trial_choice_plot'] = 1\n",
    "    df_behaviortrial.loc[df_behaviortrial['trial_choice'] == 'middle', 'trial_choice_plot'] = .5\n",
    "\n",
    "    trial_choice_plot_interpolated = df_behaviortrial['trial_choice_plot'].values\n",
    "    nans, x= np.isnan(trial_choice_plot_interpolated), lambda z: z.nonzero()[0]\n",
    "    trial_choice_plot_interpolated[nans]= np.interp(x(nans), x(~nans), trial_choice_plot_interpolated[~nans])\n",
    "\n",
    "    if plottype == '2lickport':\n",
    "        df_behaviortrial['reward_ratio']=df_behaviortrial['p_reward_right']/(df_behaviortrial['p_reward_right']+df_behaviortrial['p_reward_left'])\n",
    "        bias = np.convolve(trial_choice_plot_interpolated,choice_filter,mode = 'valid')\n",
    "        bias = np.concatenate((np.nan*np.ones(int(np.floor((len(choice_filter)-1)/2))),bias,np.nan*np.ones(int(np.ceil((len(choice_filter)-1)/2)))))\n",
    "    elif plottype == '3lickport':\n",
    "        df_behaviortrial['reward_ratio_1']=df_behaviortrial['p_reward_left']/(df_behaviortrial['p_reward_right']+df_behaviortrial['p_reward_left']+ df_behaviortrial['p_reward_middle'])\n",
    "        df_behaviortrial['reward_ratio_2']=(df_behaviortrial['p_reward_left']+df_behaviortrial['p_reward_middle'])/(df_behaviortrial['p_reward_right']+df_behaviortrial['p_reward_left']+ df_behaviortrial['p_reward_middle'])\n",
    "        #%\n",
    "        leftchoices_filtered = np.convolve(df_behaviortrial['trial_choice'] == 'left',choice_filter,mode = 'valid')\n",
    "        leftchoices_filtered = np.concatenate((np.nan*np.ones(int(np.floor((len(choice_filter)-1)/2))),leftchoices_filtered ,np.nan*np.ones(int(np.ceil((len(choice_filter)-1)/2)))))\n",
    "        rightchoices_filtered = np.convolve(df_behaviortrial['trial_choice'] == 'right',choice_filter,mode = 'valid')\n",
    "        rightchoices_filtered = np.concatenate((np.nan*np.ones(int(np.floor((len(choice_filter)-1)/2))),rightchoices_filtered ,np.nan*np.ones(int(np.ceil((len(choice_filter)-1)/2)))))\n",
    "        middlechoices_filtered = np.convolve(df_behaviortrial['trial_choice'] == 'middle',choice_filter,mode = 'valid')\n",
    "        middlechoices_filtered = np.concatenate((np.nan*np.ones(int(np.floor((len(choice_filter)-1)/2))),middlechoices_filtered ,np.nan*np.ones(int(np.ceil((len(choice_filter)-1)/2)))))\n",
    "        allchoices_filtered = np.convolve(df_behaviortrial['trial_choice'] != 'none',choice_filter,mode = 'valid')\n",
    "        allchoices_filtered = np.concatenate((np.nan*np.ones(int(np.floor((len(choice_filter)-1)/2))),allchoices_filtered ,np.nan*np.ones(int(np.ceil((len(choice_filter)-1)/2)))))\n",
    "\n",
    "    rewarded = (df_behaviortrial['outcome']=='hit')\n",
    "    unrewarded = (df_behaviortrial['outcome']=='miss')\n",
    "    \n",
    "    blockswitches = np.where(np.diff(df_behaviortrial['session'].values)>0)[0]\n",
    "    if len(blockswitches)>0:\n",
    "        for trialnum_now in blockswitches:\n",
    "            ax1.plot([df_behaviortrial['trial'][trialnum_now],df_behaviortrial['trial'][trialnum_now]],[-.15,1.15],'b--')\n",
    "            \n",
    "    if plottype == '2lickport':\n",
    "        if plot_each_choice.value:\n",
    "            ax1.plot(df_behaviortrial['trial'][rewarded],df_behaviortrial['trial_choice_plot'][rewarded],'k|',color='black',markersize=30,markeredgewidth=2)\n",
    "            ax1.plot(df_behaviortrial['trial'][unrewarded],df_behaviortrial['trial_choice_plot'][unrewarded],'|',color='gray',markersize=15,markeredgewidth=2)\n",
    "        ax1.plot(df_behaviortrial['trial'],bias,'k-',label = 'choice')\n",
    "        ax1.plot(df_behaviortrial['trial'],df_behaviortrial['reward_ratio'],'y-')\n",
    "        ax1.set_yticks((0,1))\n",
    "        ax1.set_yticklabels(('left','right'))\n",
    "    elif plottype == '3lickport':\n",
    "        ax1.stackplot(df_behaviortrial['trial'],  leftchoices_filtered/allchoices_filtered ,  middlechoices_filtered/allchoices_filtered ,  rightchoices_filtered/allchoices_filtered ,colors=['r','g','b'], alpha=0.3 )\n",
    "        if plot_each_choice.value:\n",
    "            ax1.plot(df_behaviortrial['trial'][rewarded],df_behaviortrial['trial_choice_plot'][rewarded],'k|',color='black',markersize=30,markeredgewidth=2)\n",
    "            ax1.plot(df_behaviortrial['trial'][unrewarded],df_behaviortrial['trial_choice_plot'][unrewarded],'|',color='gray',markersize=15,markeredgewidth=2)\n",
    "        ax1.plot(df_behaviortrial['trial'],df_behaviortrial['reward_ratio_1'],'y-')\n",
    "        ax1.plot(df_behaviortrial['trial'],df_behaviortrial['reward_ratio_2'],'y-')\n",
    "        ax1.set_yticks((0,.5,1))\n",
    "        ax1.set_yticklabels(('left','middle','right'))\n",
    "        ax1.set_ylim([-.1,1.1])\n",
    "    #fig.canvas.draw_idle()\n",
    "    with output:\n",
    "        clear_output(wait=True)\n",
    "        display(ax1.figure)\n",
    "\n",
    "\n",
    "\n",
    "        \n",
    "        \n",
    "## widgets are defined here\n",
    "border = widgets.Output(layout={'border': '1px solid black'})\n",
    "output = widgets.Output()\n",
    "\n",
    "task_selector = widgets.Dropdown(layout={'width': 'initial'},\n",
    "                                    options=['2lickport','3lickport'],\n",
    "                                    disabled=False)\n",
    "task_selector.observe(update_params,'value')\n",
    "\n",
    "wr_name_selector = widgets.Dropdown(layout={'width': 'initial'},\n",
    "                                    options=wr_names,\n",
    "                                    disabled=False)\n",
    "wr_name_selector.observe(update_params,'value') # runs update params upon change in value\n",
    "\n",
    "\n",
    "session_selector = widgets.IntRangeSlider(value=[5, 7],\n",
    "                                          min=0,\n",
    "                                          max=10,\n",
    "                                          step=1,\n",
    "                                          disabled=False,\n",
    "                                          continuous_update=False,\n",
    "                                          orientation='horizontal',\n",
    "                                          readout=True,\n",
    "                                          readout_format='d')\n",
    "\n",
    "bias_check_selector = widgets.Checkbox(value=False,\n",
    "                                       description='Include bias check',\n",
    "                                       disabled=False,\n",
    "                                       indent=False)\n",
    "\n",
    "plot_button = widgets.Button(description=\"plot\")\n",
    "plot_button.on_click(plot_trials)\n",
    "\n",
    "plot_each_choice = widgets.Checkbox(value=False,\n",
    "                              description='Plot each choice',\n",
    "                              disabled=False,\n",
    "                              indent=False)\n",
    "\n",
    "## layout of widgets\n",
    "controls = widgets.HBox([widgets.VBox([widgets.Label('Task'), task_selector]),\n",
    "                         widgets.VBox([widgets.Label('Subject'), wr_name_selector]),\n",
    "                         widgets.VBox([widgets.Label('Sessions'),session_selector]),\n",
    "                         widgets.VBox([bias_check_selector]),\n",
    "                         plot_button])\n",
    "plot_controls = widgets.HBox([plot_each_choice])\n",
    "accordion = widgets.VBox(children=(controls,plot_controls), title=('Select data', 'Plot details'))\n",
    "#accordion.set_title(0, 'Data')\n",
    "#accordion.set_title(1, 'Plot')\n",
    "\n",
    "display(accordion)\n",
    "display(border)\n",
    "display(output)\n",
    "\n",
    "update_params()"
   ]
  }
 ],
 "metadata": {
  "kernelspec": {
   "display_name": "Python 3",
   "language": "python",
   "name": "python3"
  },
  "language_info": {
   "codemirror_mode": {
    "name": "ipython",
    "version": 3
   },
   "file_extension": ".py",
   "mimetype": "text/x-python",
   "name": "python",
   "nbconvert_exporter": "python",
   "pygments_lexer": "ipython3",
   "version": "3.7.3"
  },
  "varInspector": {
   "cols": {
    "lenName": 16,
    "lenType": 16,
    "lenVar": 40
   },
   "kernels_config": {
    "python": {
     "delete_cmd_postfix": "",
     "delete_cmd_prefix": "del ",
     "library": "var_list.py",
     "varRefreshCmd": "print(var_dic_list())"
    },
    "r": {
     "delete_cmd_postfix": ") ",
     "delete_cmd_prefix": "rm(",
     "library": "var_list.r",
     "varRefreshCmd": "cat(var_dic_list()) "
    }
   },
   "position": {
    "height": "464.85px",
    "left": "1019px",
    "right": "20px",
    "top": "119px",
    "width": "355px"
   },
   "types_to_exclude": [
    "module",
    "function",
    "builtin_function_or_method",
    "instance",
    "_Feature"
   ],
   "window_display": false
  }
 },
 "nbformat": 4,
 "nbformat_minor": 2
}
