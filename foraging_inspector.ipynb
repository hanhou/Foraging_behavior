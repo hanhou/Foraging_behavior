{
 "cells": [
  {
   "cell_type": "code",
   "execution_count": 1,
   "metadata": {
    "ExecuteTime": {
     "end_time": "2020-04-13T02:40:05.124937Z",
     "start_time": "2020-04-13T02:40:04.070839Z"
    }
   },
   "outputs": [
    {
     "name": "stdout",
     "output_type": "stream",
     "text": [
      "Connecting rozmar@mesoscale-activity.datajoint.io:3306\n"
     ]
    }
   ],
   "source": [
    "import ipywidgets as widgets\n",
    "from ipywidgets import interact, interact_manual\n",
    "from IPython.display import display,clear_output\n",
    "import pandas as pd\n",
    "import matplotlib.pyplot as plt\n",
    "import datajoint as dj\n",
    "from pipeline import pipeline_tools, lab, experiment, behavior_foraging\n",
    "import numpy as np\n",
    "dj.conn()\n",
    "from foraging_inspector_utils import *\n",
    "#%matplotlib widgetsnbextension"
   ]
  },
  {
   "cell_type": "code",
   "execution_count": 9,
   "metadata": {
    "ExecuteTime": {
     "end_time": "2020-04-13T02:40:05.639253Z",
     "start_time": "2020-04-13T02:40:05.127517Z"
    },
    "scrolled": false
   },
   "outputs": [
    {
     "data": {
      "application/vnd.jupyter.widget-view+json": {
       "model_id": "42875a82825a463e87a55f665c91979a",
       "version_major": 2,
       "version_minor": 0
      },
      "text/plain": [
       "VBox(children=(HBox(children=(VBox(children=(Label(value='Task'), Dropdown(layout=Layout(width='auto'), option…"
      ]
     },
     "metadata": {},
     "output_type": "display_data"
    },
    {
     "data": {
      "application/vnd.jupyter.widget-view+json": {
       "model_id": "c79705707d524893a8b026fd94a98acd",
       "version_major": 2,
       "version_minor": 0
      },
      "text/plain": [
       "Output(layout=Layout(border='1px solid black'))"
      ]
     },
     "metadata": {},
     "output_type": "display_data"
    },
    {
     "data": {
      "application/vnd.jupyter.widget-view+json": {
       "model_id": "b00feb454b7d4a569e6c53e312da2ba3",
       "version_major": 2,
       "version_minor": 0
      },
      "text/plain": [
       "VBox(children=(Output(), Output()))"
      ]
     },
     "metadata": {},
     "output_type": "display_data"
    },
    {
     "data": {
      "application/vnd.jupyter.widget-view+json": {
       "model_id": "c79705707d524893a8b026fd94a98acd",
       "version_major": 2,
       "version_minor": 0
      },
      "text/plain": [
       "Output(layout=Layout(border='1px solid black'))"
      ]
     },
     "metadata": {},
     "output_type": "display_data"
    },
    {
     "name": "stdout",
     "output_type": "stream",
     "text": [
      "0\n",
      "373\n",
      "1005\n",
      "0\n",
      "373\n",
      "1005\n",
      "1576\n",
      "1999\n",
      "2471\n",
      "3004\n",
      "3435\n",
      "310\n",
      "608\n",
      "1022\n",
      "1979\n",
      "2333\n",
      "2982\n",
      "3365\n",
      "3635\n",
      "316\n",
      "617\n",
      "1473\n",
      "1985\n",
      "2412\n",
      "2988\n",
      "3372\n",
      "3435\n"
     ]
    }
   ],
   "source": [
    "#data.df_behaviortrial=[]\n",
    "\n",
    "def update_params(df_behaviortrial=None):  # this script make sure that the widgets are synchronized\n",
    "    plottype = task_selector.value\n",
    "    if '2' in plottype:\n",
    "        wr_names = (behavior_foraging.SessionTaskProtocol()*experiment.Session()*lab.WaterRestriction()&'session_task_protocol = 100').fetch('water_restriction_number')\n",
    "    elif '3' in plottype:\n",
    "        wr_names = (behavior_foraging.SessionTaskProtocol()*experiment.Session()*lab.WaterRestriction()&'session_task_protocol = 101').fetch('water_restriction_number')\n",
    "    wr_names = np.unique(wr_names)\n",
    "    wr_name_selector.options = wr_names\n",
    "    wr_name = wr_name_selector.value\n",
    "    subject_id = (lab.WaterRestriction()&'water_restriction_number = \"{}\"'.format(wr_name)).fetch1('subject_id')\n",
    "\n",
    "    df_sessions = pd.DataFrame(behavior_foraging.SessionTaskProtocol()*experiment.Session()&'subject_id = {}'.format(subject_id))\n",
    "    if '2' in plottype:\n",
    "        needed = df_sessions['session_task_protocol'] == 100\n",
    "    elif '3' in plottype:\n",
    "        needed = df_sessions['session_task_protocol'] == 101\n",
    "    df_sessions=df_sessions[needed]\n",
    "    if len(df_sessions)>0:\n",
    "        try:\n",
    "            session_selector.min = df_sessions['session'].min()\n",
    "            session_selector.max = df_sessions['session'].max()\n",
    "        except:\n",
    "            session_selector.max = df_sessions['session'].max()\n",
    "            session_selector.min = df_sessions['session'].min()\n",
    "    else:\n",
    "        session_selector.min = 0\n",
    "        session_selector.max = 0\n",
    "    session_real_foraging = (behavior_foraging.SessionTaskProtocol()&'subject_id = {}'.format(subject_id)).fetch('session_real_foraging')\n",
    "    metadata_display.value = 'Pretraining session num: {}'.format(sum(session_real_foraging ==0))\n",
    "    if type(df_behaviortrial) == pd.DataFrame:\n",
    "        metadata_display.value = metadata_display.value + '<br/>  trial number: {}'.format(len(df_behaviortrial))\n",
    "\n",
    "def plot_stuff(dummy=None): # this script does the plotting\n",
    "    # generate figure structure\n",
    "    fig=plt.figure()\n",
    "    ax1=fig.add_axes([0,0,2,.8])\n",
    "    ax2=fig.add_axes([0,-.6,2,.4])\n",
    "    ax3=fig.add_axes([0,-1.6,2,.8])\n",
    "    ax4=fig.add_axes([0,-2.6,2,.8])\n",
    "    ax5 = fig.add_axes([0,-3.6,2,.8])\n",
    "    plt.close(fig)\n",
    "    \n",
    "    with output:\n",
    "        clear_output(wait=True)\n",
    "        print('waiting for data..')\n",
    "    # invoke plot functions   \n",
    "    filters = {'ignore_rate_max':filter_max_ignore_rate.value}\n",
    "    df_behaviortrial = extract_trials(plottype = task_selector.value,\n",
    "                                      wr_name = wr_name_selector.value,\n",
    "                                      sessions = session_selector.value,\n",
    "                                      show_bias_check_trials =  bias_check_selector.value,\n",
    "                                      kernel = np.ones(plot_choice_averaging_window.value)/plot_choice_averaging_window.value,\n",
    "                                      filters = filters)\n",
    "    plot_trials(df_behaviortrial,\n",
    "                ax1,\n",
    "                ax2,\n",
    "                plottype = task_selector.value,\n",
    "                wr_name = wr_name_selector.value,\n",
    "                sessions = session_selector.value,\n",
    "                plot_every_choice= plot_each_choice.value,\n",
    "                show_bias_check_trials =  bias_check_selector.value,\n",
    "                choice_filter = np.ones(plot_choice_averaging_window.value)/plot_choice_averaging_window.value)\n",
    "\n",
    "    plot_efficiency_matching_bias(ax3,\n",
    "                                  plottype = task_selector.value,\n",
    "                                  wr_name = wr_name_selector.value,\n",
    "                                  sessions= session_selector.value,\n",
    "                                  show_bias_check_trials =  bias_check_selector.value,\n",
    "                                  plot_efficiency_type = plot_efficiency.value)\n",
    "    plot_rt_iti(df_behaviortrial,\n",
    "                ax4,\n",
    "                ax5,\n",
    "                plottype = task_selector.value,\n",
    "                wr_name = wr_name_selector.value,\n",
    "                sessions = session_selector.value,\n",
    "                show_bias_check_trials =  bias_check_selector.value,\n",
    "                kernel = np.ones(plot_choice_averaging_window.value)/plot_choice_averaging_window.value)\n",
    "    \n",
    "    # display figure on widget\n",
    "    with output:\n",
    "        clear_output(wait=True)\n",
    "        display(fig)\n",
    "    update_params(df_behaviortrial)\n",
    "    \n",
    "    \n",
    "        \n",
    "\n",
    "        \n",
    "## widgets are defined here\n",
    "border = widgets.Output(layout={'border': '1px solid black'})\n",
    "output = widgets.Output()\n",
    "output2 = widgets.Output()\n",
    "task_selector = widgets.Dropdown(layout={'width': 'auto'},\n",
    "                                    options=['2lickport','3lickport'],\n",
    "                                    disabled=False)\n",
    "task_selector.observe(update_params,'value')\n",
    "\n",
    "wr_name_selector = widgets.Dropdown(layout={'width': 'auto'},\n",
    "                                    options=[],\n",
    "                                    disabled=False)\n",
    "wr_name_selector.observe(update_params,'value') # runs update params upon change in value\n",
    "\n",
    "session_selector = widgets.IntRangeSlider(value=[5, 7],\n",
    "                                          min=0,\n",
    "                                          max=10,\n",
    "                                          step=1,\n",
    "                                          disabled=False,\n",
    "                                          continuous_update=False,\n",
    "                                          orientation='horizontal',\n",
    "                                          readout=True,\n",
    "                                          readout_format='d')\n",
    "\n",
    "bias_check_selector = widgets.Checkbox(value=True,\n",
    "                                       description='Include bias check',\n",
    "                                       disabled=False,\n",
    "                                       indent=False,\n",
    "                                       layout={'width': 'auto'})\n",
    "metadata_display = widgets.HTML(value=\"\",\n",
    "                                placeholder=' ',\n",
    "                                description=' ',\n",
    "                                layout={'width': 'auto'})\n",
    "\n",
    "\n",
    "\n",
    "plot_button = widgets.Button(description=\"plot\")\n",
    "plot_button.on_click(plot_stuff)\n",
    "\n",
    "# plotting related widgets\n",
    "plot_each_choice = widgets.Checkbox(value=True,\n",
    "                              description='Plot each choice',\n",
    "                              disabled=False,\n",
    "                              indent=False,\n",
    "                              layout={'width': 'auto'})\n",
    "plot_choice_averaging_window = widgets.IntText(value=10,\n",
    "                                               description='Choice avg window:',\n",
    "                                               style={'description_width': 'initial'},\n",
    "                                               disabled=False,\n",
    "                                               layout={'width': '70%'}\n",
    "                                              )\n",
    "plot_efficiency = widgets.Dropdown(layout={'width': 'initial'},\n",
    "                                   options=['ideal','ideal_regret','max_prob','sum_prob','max_available','sum_available'],\n",
    "                                   value = 'ideal',\n",
    "                                   description = 'Efficiency:',\n",
    "                                   disabled=False)\n",
    "\n",
    "# data filtering related widgets\n",
    "filter_max_ignore_rate = widgets.IntText(value=100,\n",
    "                                         description='Max ignore rate %:',\n",
    "                                         style={'description_width': 'initial'},\n",
    "                                         disabled=False,\n",
    "                                         layout={'width': '70%'})\n",
    "## layout of widgets\n",
    "controls = widgets.HBox([widgets.VBox([widgets.Label('Task'), task_selector]),\n",
    "                         widgets.VBox([widgets.Label('Subject'), wr_name_selector]),\n",
    "                         widgets.VBox([widgets.Label('Sessions'),session_selector]),\n",
    "                         widgets.VBox([bias_check_selector]),\n",
    "                         widgets.VBox([plot_button])])\n",
    "\n",
    "plot_controls = widgets.HBox([widgets.VBox([plot_each_choice,plot_choice_averaging_window]),\n",
    "                             widgets.VBox([plot_efficiency])])\n",
    "filter_controls = widgets.HBox([widgets.VBox([filter_max_ignore_rate])])\n",
    "accordion = widgets.VBox(children=(controls,plot_controls,filter_controls,metadata_display), title=('Select data', 'Plot details','Metadata'))\n",
    "#accordion.set_title(0, 'Data')\n",
    "#accordion.set_title(1, 'Plot')\n",
    "\n",
    "\n",
    "# displaying widgets\n",
    "display(accordion)\n",
    "display(border)\n",
    "display(widgets.VBox([output,output2]))\n",
    "display(border)\n",
    "update_params()"
   ]
  }
 ],
 "metadata": {
  "kernelspec": {
   "display_name": "Python 3",
   "language": "python",
   "name": "python3"
  },
  "language_info": {
   "codemirror_mode": {
    "name": "ipython",
    "version": 3
   },
   "file_extension": ".py",
   "mimetype": "text/x-python",
   "name": "python",
   "nbconvert_exporter": "python",
   "pygments_lexer": "ipython3",
   "version": "3.7.3"
  },
  "varInspector": {
   "cols": {
    "lenName": 16,
    "lenType": 16,
    "lenVar": 40
   },
   "kernels_config": {
    "python": {
     "delete_cmd_postfix": "",
     "delete_cmd_prefix": "del ",
     "library": "var_list.py",
     "varRefreshCmd": "print(var_dic_list())"
    },
    "r": {
     "delete_cmd_postfix": ") ",
     "delete_cmd_prefix": "rm(",
     "library": "var_list.r",
     "varRefreshCmd": "cat(var_dic_list()) "
    }
   },
   "position": {
    "height": "464.85px",
    "left": "1019px",
    "right": "20px",
    "top": "119px",
    "width": "355px"
   },
   "types_to_exclude": [
    "module",
    "function",
    "builtin_function_or_method",
    "instance",
    "_Feature"
   ],
   "window_display": false
  }
 },
 "nbformat": 4,
 "nbformat_minor": 2
}
